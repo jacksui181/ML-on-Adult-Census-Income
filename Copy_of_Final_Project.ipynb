{
  "nbformat": 4,
  "nbformat_minor": 0,
  "metadata": {
    "colab": {
      "name": "Copy of Final Project.ipynb",
      "provenance": [],
      "collapsed_sections": []
    },
    "kernelspec": {
      "name": "python3",
      "display_name": "Python 3"
    },
    "language_info": {
      "name": "python"
    }
  },
  "cells": [
    {
      "cell_type": "markdown",
      "metadata": {
        "id": "HLZ91mmvMQyl"
      },
      "source": [
        "## **Machine Learning Final Project DUE: Friday May 7th 11:59pm**\n",
        "\n",
        "**Note: Please read all the instructions carefully before starting the project.**\n",
        "\n",
        "For your final project you will build an ML model to analyze a dataset of your choice. You are welcome to keep working on the data in your EDA project if your data is large enough (at least 1000 rows for simple models and at least 10,000 for more complex models) or you can choose from the datasets/project suggestions below.\n",
        "\n",
        "In this project make sure that you:\n",
        "- Have a large enough dataset\n",
        "- Split your data in training and testing\n",
        "- Explore your data to inform which type of model to choose (no need if you are using your EDA dataset)\n",
        "- Try different models on your training dataset - then select the most promising model\n",
        "- Use cross validation to fine tune the model’s parameters such as alpha in lasso\n",
        "- Simplify your model using regularization, prunnning, drop-out, etc. to avoid overfitting\n",
        "- Communicate your model’s performance and make sure you compare it to a benchmark when appropriate\n",
        "- Plot interesting graphs and results\n",
        "- Write and publish your article to medium\n",
        "- Commit your code to your GitHub\n",
        "\n",
        "Please ensure you handle all the preprocessing before the modeling.\n",
        "\n",
        "Suggestions for project:\n",
        "You can take a look at the resources given below for choosing a dataset for your project. \n",
        "\n",
        "- Traffic sign detection - https://benchmark.ini.rub.de/gtsdb_dataset.html\n",
        "- Cat and dog classifier - https://www.kaggle.com/c/dogs-vs-cats/data\n",
        "- Other datasets from Kaggle - https://www.kaggle.com/data/41592"
      ]
    },
    {
      "cell_type": "markdown",
      "metadata": {
        "id": "mirWm3dBPv90"
      },
      "source": [
        "## **Grading Criteria**\n",
        "\n",
        "- Show clear exploration of the data to justify model choice\n",
        "- Train mutliple models and clearly articulate why you chose your final model\n",
        "- Show your performance on test dataset\n",
        "- Clear and concise write-up with clear well-documented figures\n",
        "- Commit your code to GitHub"
      ]
    },
    {
      "cell_type": "markdown",
      "metadata": {
        "id": "4ZRNqxFcP4wx"
      },
      "source": [
        "## **Submission Details**\n",
        "\n",
        "This is an individual assignment. You may not work in groups. The assignment is due on Friday (05/07/2021)\n",
        "- To submit your assignment, download your notebook and the dataset, zip the dataset and notebook, and submit the zipped file on blackboard.\n",
        "- Make sure the notebook is named in the format - Final_LastName_FirstName. If you are submitting a zipped file, please name the file as well in the same format.\n",
        "- Please include the link to access your blog and your github repo in your notebook.\n",
        "- Also include the link to your notebook, github repo and the blog in the submission on blackboard. Please ensure the TAs have the required access to your notebooks and the github repo.\n",
        "\n",
        "**Note - If the dataset is too large to be zipped and submitted on blackboard, only submit your notebook, add your dataset to your google drive and share a link to the file in your notebook.**"
      ]
    },
    {
      "cell_type": "code",
      "metadata": {
        "id": "IbH__ciK3nfi"
      },
      "source": [
        "# Import necessary package\n",
        "import numpy as np\n",
        "import pandas as pd\n",
        "import matplotlib.pyplot as plt\n",
        "import seaborn as sns\n",
        "from sklearn.model_selection import train_test_split"
      ],
      "execution_count": 69,
      "outputs": []
    },
    {
      "cell_type": "code",
      "metadata": {
        "id": "ZzWRBLl6MImY"
      },
      "source": [
        "# Read the csv file\n",
        "adult = pd.read_csv('adult.csv')"
      ],
      "execution_count": 70,
      "outputs": []
    },
    {
      "cell_type": "code",
      "metadata": {
        "colab": {
          "base_uri": "https://localhost:8080/"
        },
        "id": "AjBsK3xs5OKe",
        "outputId": "d5acded4-b3ec-4a6b-db19-e211f1edd844"
      },
      "source": [
        "# Overview of dataset\n",
        "adult.info()"
      ],
      "execution_count": 71,
      "outputs": [
        {
          "output_type": "stream",
          "text": [
            "<class 'pandas.core.frame.DataFrame'>\n",
            "RangeIndex: 32561 entries, 0 to 32560\n",
            "Data columns (total 15 columns):\n",
            " #   Column          Non-Null Count  Dtype \n",
            "---  ------          --------------  ----- \n",
            " 0   age             32561 non-null  int64 \n",
            " 1   workclass       32561 non-null  object\n",
            " 2   fnlwgt          32561 non-null  int64 \n",
            " 3   education       32561 non-null  object\n",
            " 4   education.num   32561 non-null  int64 \n",
            " 5   marital.status  32561 non-null  object\n",
            " 6   occupation      32561 non-null  object\n",
            " 7   relationship    32561 non-null  object\n",
            " 8   race            32561 non-null  object\n",
            " 9   sex             32561 non-null  object\n",
            " 10  capital.gain    32561 non-null  int64 \n",
            " 11  capital.loss    32561 non-null  int64 \n",
            " 12  hours.per.week  32561 non-null  int64 \n",
            " 13  native.country  32561 non-null  object\n",
            " 14  income          32561 non-null  object\n",
            "dtypes: int64(6), object(9)\n",
            "memory usage: 3.7+ MB\n"
          ],
          "name": "stdout"
        }
      ]
    },
    {
      "cell_type": "code",
      "metadata": {
        "colab": {
          "base_uri": "https://localhost:8080/",
          "height": 292
        },
        "id": "OyNvckUPK_aS",
        "outputId": "e2565dd2-afff-4298-86d2-398ed373983f"
      },
      "source": [
        "# Display the data\n",
        "adult.head()"
      ],
      "execution_count": 72,
      "outputs": [
        {
          "output_type": "execute_result",
          "data": {
            "text/html": [
              "<div>\n",
              "<style scoped>\n",
              "    .dataframe tbody tr th:only-of-type {\n",
              "        vertical-align: middle;\n",
              "    }\n",
              "\n",
              "    .dataframe tbody tr th {\n",
              "        vertical-align: top;\n",
              "    }\n",
              "\n",
              "    .dataframe thead th {\n",
              "        text-align: right;\n",
              "    }\n",
              "</style>\n",
              "<table border=\"1\" class=\"dataframe\">\n",
              "  <thead>\n",
              "    <tr style=\"text-align: right;\">\n",
              "      <th></th>\n",
              "      <th>age</th>\n",
              "      <th>workclass</th>\n",
              "      <th>fnlwgt</th>\n",
              "      <th>education</th>\n",
              "      <th>education.num</th>\n",
              "      <th>marital.status</th>\n",
              "      <th>occupation</th>\n",
              "      <th>relationship</th>\n",
              "      <th>race</th>\n",
              "      <th>sex</th>\n",
              "      <th>capital.gain</th>\n",
              "      <th>capital.loss</th>\n",
              "      <th>hours.per.week</th>\n",
              "      <th>native.country</th>\n",
              "      <th>income</th>\n",
              "    </tr>\n",
              "  </thead>\n",
              "  <tbody>\n",
              "    <tr>\n",
              "      <th>0</th>\n",
              "      <td>90</td>\n",
              "      <td>?</td>\n",
              "      <td>77053</td>\n",
              "      <td>HS-grad</td>\n",
              "      <td>9</td>\n",
              "      <td>Widowed</td>\n",
              "      <td>?</td>\n",
              "      <td>Not-in-family</td>\n",
              "      <td>White</td>\n",
              "      <td>Female</td>\n",
              "      <td>0</td>\n",
              "      <td>4356</td>\n",
              "      <td>40</td>\n",
              "      <td>United-States</td>\n",
              "      <td>&lt;=50K</td>\n",
              "    </tr>\n",
              "    <tr>\n",
              "      <th>1</th>\n",
              "      <td>82</td>\n",
              "      <td>Private</td>\n",
              "      <td>132870</td>\n",
              "      <td>HS-grad</td>\n",
              "      <td>9</td>\n",
              "      <td>Widowed</td>\n",
              "      <td>Exec-managerial</td>\n",
              "      <td>Not-in-family</td>\n",
              "      <td>White</td>\n",
              "      <td>Female</td>\n",
              "      <td>0</td>\n",
              "      <td>4356</td>\n",
              "      <td>18</td>\n",
              "      <td>United-States</td>\n",
              "      <td>&lt;=50K</td>\n",
              "    </tr>\n",
              "    <tr>\n",
              "      <th>2</th>\n",
              "      <td>66</td>\n",
              "      <td>?</td>\n",
              "      <td>186061</td>\n",
              "      <td>Some-college</td>\n",
              "      <td>10</td>\n",
              "      <td>Widowed</td>\n",
              "      <td>?</td>\n",
              "      <td>Unmarried</td>\n",
              "      <td>Black</td>\n",
              "      <td>Female</td>\n",
              "      <td>0</td>\n",
              "      <td>4356</td>\n",
              "      <td>40</td>\n",
              "      <td>United-States</td>\n",
              "      <td>&lt;=50K</td>\n",
              "    </tr>\n",
              "    <tr>\n",
              "      <th>3</th>\n",
              "      <td>54</td>\n",
              "      <td>Private</td>\n",
              "      <td>140359</td>\n",
              "      <td>7th-8th</td>\n",
              "      <td>4</td>\n",
              "      <td>Divorced</td>\n",
              "      <td>Machine-op-inspct</td>\n",
              "      <td>Unmarried</td>\n",
              "      <td>White</td>\n",
              "      <td>Female</td>\n",
              "      <td>0</td>\n",
              "      <td>3900</td>\n",
              "      <td>40</td>\n",
              "      <td>United-States</td>\n",
              "      <td>&lt;=50K</td>\n",
              "    </tr>\n",
              "    <tr>\n",
              "      <th>4</th>\n",
              "      <td>41</td>\n",
              "      <td>Private</td>\n",
              "      <td>264663</td>\n",
              "      <td>Some-college</td>\n",
              "      <td>10</td>\n",
              "      <td>Separated</td>\n",
              "      <td>Prof-specialty</td>\n",
              "      <td>Own-child</td>\n",
              "      <td>White</td>\n",
              "      <td>Female</td>\n",
              "      <td>0</td>\n",
              "      <td>3900</td>\n",
              "      <td>40</td>\n",
              "      <td>United-States</td>\n",
              "      <td>&lt;=50K</td>\n",
              "    </tr>\n",
              "  </tbody>\n",
              "</table>\n",
              "</div>"
            ],
            "text/plain": [
              "   age workclass  fnlwgt  ... hours.per.week  native.country income\n",
              "0   90         ?   77053  ...             40   United-States  <=50K\n",
              "1   82   Private  132870  ...             18   United-States  <=50K\n",
              "2   66         ?  186061  ...             40   United-States  <=50K\n",
              "3   54   Private  140359  ...             40   United-States  <=50K\n",
              "4   41   Private  264663  ...             40   United-States  <=50K\n",
              "\n",
              "[5 rows x 15 columns]"
            ]
          },
          "metadata": {
            "tags": []
          },
          "execution_count": 72
        }
      ]
    },
    {
      "cell_type": "markdown",
      "metadata": {
        "id": "jT_OPzHYq1W7"
      },
      "source": [
        "I notice that some of the cells are \"?\". This will be a problem when I begin my data analysis. Hence, the beginning of data processing starts here."
      ]
    },
    {
      "cell_type": "code",
      "metadata": {
        "colab": {
          "base_uri": "https://localhost:8080/"
        },
        "id": "7H7XtdGnq1DJ",
        "outputId": "71a30e35-fb20-46af-9dee-50e7d3da6cb2"
      },
      "source": [
        "# Convert each \"?\" to NaN. Check which of the cells are empty\n",
        "adult.replace('?', np.NaN, inplace = True)\n",
        "adult.isnull().sum()"
      ],
      "execution_count": 73,
      "outputs": [
        {
          "output_type": "execute_result",
          "data": {
            "text/plain": [
              "age                  0\n",
              "workclass         1836\n",
              "fnlwgt               0\n",
              "education            0\n",
              "education.num        0\n",
              "marital.status       0\n",
              "occupation        1843\n",
              "relationship         0\n",
              "race                 0\n",
              "sex                  0\n",
              "capital.gain         0\n",
              "capital.loss         0\n",
              "hours.per.week       0\n",
              "native.country     583\n",
              "income               0\n",
              "dtype: int64"
            ]
          },
          "metadata": {
            "tags": []
          },
          "execution_count": 73
        }
      ]
    },
    {
      "cell_type": "code",
      "metadata": {
        "colab": {
          "base_uri": "https://localhost:8080/",
          "height": 292
        },
        "id": "ldFYa4LPtZe_",
        "outputId": "0beb72d2-5700-48ad-c6a2-f7a5d1d89648"
      },
      "source": [
        "# Check the overview again.\n",
        "adult.head()"
      ],
      "execution_count": 74,
      "outputs": [
        {
          "output_type": "execute_result",
          "data": {
            "text/html": [
              "<div>\n",
              "<style scoped>\n",
              "    .dataframe tbody tr th:only-of-type {\n",
              "        vertical-align: middle;\n",
              "    }\n",
              "\n",
              "    .dataframe tbody tr th {\n",
              "        vertical-align: top;\n",
              "    }\n",
              "\n",
              "    .dataframe thead th {\n",
              "        text-align: right;\n",
              "    }\n",
              "</style>\n",
              "<table border=\"1\" class=\"dataframe\">\n",
              "  <thead>\n",
              "    <tr style=\"text-align: right;\">\n",
              "      <th></th>\n",
              "      <th>age</th>\n",
              "      <th>workclass</th>\n",
              "      <th>fnlwgt</th>\n",
              "      <th>education</th>\n",
              "      <th>education.num</th>\n",
              "      <th>marital.status</th>\n",
              "      <th>occupation</th>\n",
              "      <th>relationship</th>\n",
              "      <th>race</th>\n",
              "      <th>sex</th>\n",
              "      <th>capital.gain</th>\n",
              "      <th>capital.loss</th>\n",
              "      <th>hours.per.week</th>\n",
              "      <th>native.country</th>\n",
              "      <th>income</th>\n",
              "    </tr>\n",
              "  </thead>\n",
              "  <tbody>\n",
              "    <tr>\n",
              "      <th>0</th>\n",
              "      <td>90</td>\n",
              "      <td>NaN</td>\n",
              "      <td>77053</td>\n",
              "      <td>HS-grad</td>\n",
              "      <td>9</td>\n",
              "      <td>Widowed</td>\n",
              "      <td>NaN</td>\n",
              "      <td>Not-in-family</td>\n",
              "      <td>White</td>\n",
              "      <td>Female</td>\n",
              "      <td>0</td>\n",
              "      <td>4356</td>\n",
              "      <td>40</td>\n",
              "      <td>United-States</td>\n",
              "      <td>&lt;=50K</td>\n",
              "    </tr>\n",
              "    <tr>\n",
              "      <th>1</th>\n",
              "      <td>82</td>\n",
              "      <td>Private</td>\n",
              "      <td>132870</td>\n",
              "      <td>HS-grad</td>\n",
              "      <td>9</td>\n",
              "      <td>Widowed</td>\n",
              "      <td>Exec-managerial</td>\n",
              "      <td>Not-in-family</td>\n",
              "      <td>White</td>\n",
              "      <td>Female</td>\n",
              "      <td>0</td>\n",
              "      <td>4356</td>\n",
              "      <td>18</td>\n",
              "      <td>United-States</td>\n",
              "      <td>&lt;=50K</td>\n",
              "    </tr>\n",
              "    <tr>\n",
              "      <th>2</th>\n",
              "      <td>66</td>\n",
              "      <td>NaN</td>\n",
              "      <td>186061</td>\n",
              "      <td>Some-college</td>\n",
              "      <td>10</td>\n",
              "      <td>Widowed</td>\n",
              "      <td>NaN</td>\n",
              "      <td>Unmarried</td>\n",
              "      <td>Black</td>\n",
              "      <td>Female</td>\n",
              "      <td>0</td>\n",
              "      <td>4356</td>\n",
              "      <td>40</td>\n",
              "      <td>United-States</td>\n",
              "      <td>&lt;=50K</td>\n",
              "    </tr>\n",
              "    <tr>\n",
              "      <th>3</th>\n",
              "      <td>54</td>\n",
              "      <td>Private</td>\n",
              "      <td>140359</td>\n",
              "      <td>7th-8th</td>\n",
              "      <td>4</td>\n",
              "      <td>Divorced</td>\n",
              "      <td>Machine-op-inspct</td>\n",
              "      <td>Unmarried</td>\n",
              "      <td>White</td>\n",
              "      <td>Female</td>\n",
              "      <td>0</td>\n",
              "      <td>3900</td>\n",
              "      <td>40</td>\n",
              "      <td>United-States</td>\n",
              "      <td>&lt;=50K</td>\n",
              "    </tr>\n",
              "    <tr>\n",
              "      <th>4</th>\n",
              "      <td>41</td>\n",
              "      <td>Private</td>\n",
              "      <td>264663</td>\n",
              "      <td>Some-college</td>\n",
              "      <td>10</td>\n",
              "      <td>Separated</td>\n",
              "      <td>Prof-specialty</td>\n",
              "      <td>Own-child</td>\n",
              "      <td>White</td>\n",
              "      <td>Female</td>\n",
              "      <td>0</td>\n",
              "      <td>3900</td>\n",
              "      <td>40</td>\n",
              "      <td>United-States</td>\n",
              "      <td>&lt;=50K</td>\n",
              "    </tr>\n",
              "  </tbody>\n",
              "</table>\n",
              "</div>"
            ],
            "text/plain": [
              "   age workclass  fnlwgt  ... hours.per.week  native.country income\n",
              "0   90       NaN   77053  ...             40   United-States  <=50K\n",
              "1   82   Private  132870  ...             18   United-States  <=50K\n",
              "2   66       NaN  186061  ...             40   United-States  <=50K\n",
              "3   54   Private  140359  ...             40   United-States  <=50K\n",
              "4   41   Private  264663  ...             40   United-States  <=50K\n",
              "\n",
              "[5 rows x 15 columns]"
            ]
          },
          "metadata": {
            "tags": []
          },
          "execution_count": 74
        }
      ]
    },
    {
      "cell_type": "code",
      "metadata": {
        "id": "oW1y7G1jr3S9"
      },
      "source": [
        "#Give the emtpy cells in each of the three columns a value.\n",
        "adult.fillna(adult['workclass'].mode()[0], inplace = True)\n",
        "adult.fillna(adult['occupation'].mode()[0], inplace = True)\n",
        "adult.fillna(adult['native.country'].mode()[0], inplace = True)"
      ],
      "execution_count": 75,
      "outputs": []
    },
    {
      "cell_type": "code",
      "metadata": {
        "colab": {
          "base_uri": "https://localhost:8080/"
        },
        "id": "Q_c8peQfr3Kb",
        "outputId": "217bf9e3-d3d0-4865-8895-7edb9dc2d3c4"
      },
      "source": [
        "adult.info()"
      ],
      "execution_count": 76,
      "outputs": [
        {
          "output_type": "stream",
          "text": [
            "<class 'pandas.core.frame.DataFrame'>\n",
            "RangeIndex: 32561 entries, 0 to 32560\n",
            "Data columns (total 15 columns):\n",
            " #   Column          Non-Null Count  Dtype \n",
            "---  ------          --------------  ----- \n",
            " 0   age             32561 non-null  int64 \n",
            " 1   workclass       32561 non-null  object\n",
            " 2   fnlwgt          32561 non-null  int64 \n",
            " 3   education       32561 non-null  object\n",
            " 4   education.num   32561 non-null  int64 \n",
            " 5   marital.status  32561 non-null  object\n",
            " 6   occupation      32561 non-null  object\n",
            " 7   relationship    32561 non-null  object\n",
            " 8   race            32561 non-null  object\n",
            " 9   sex             32561 non-null  object\n",
            " 10  capital.gain    32561 non-null  int64 \n",
            " 11  capital.loss    32561 non-null  int64 \n",
            " 12  hours.per.week  32561 non-null  int64 \n",
            " 13  native.country  32561 non-null  object\n",
            " 14  income          32561 non-null  object\n",
            "dtypes: int64(6), object(9)\n",
            "memory usage: 3.7+ MB\n"
          ],
          "name": "stdout"
        }
      ]
    },
    {
      "cell_type": "markdown",
      "metadata": {
        "id": "k00GZWgWvM9N"
      },
      "source": [
        "We can tell that the data has been tidied. The range index equals the non-null count. We can proceed with the data visualization process."
      ]
    },
    {
      "cell_type": "code",
      "metadata": {
        "colab": {
          "base_uri": "https://localhost:8080/",
          "height": 623
        },
        "id": "7mFET2cGu34I",
        "outputId": "49290ffd-3177-4fb7-90c2-9a973b48f973"
      },
      "source": [
        "# Check the correlation of the numerical columns. \n",
        "correlation = adult.corr()\n",
        "plt.figure(figsize = (10, 10))\n",
        "sns.heatmap(correlation, annot = True)"
      ],
      "execution_count": 77,
      "outputs": [
        {
          "output_type": "execute_result",
          "data": {
            "text/plain": [
              "<matplotlib.axes._subplots.AxesSubplot at 0x7faa592ccd50>"
            ]
          },
          "metadata": {
            "tags": []
          },
          "execution_count": 77
        },
        {
          "output_type": "display_data",
          "data": {
            "image/png": "[encoded data removed]",
            "text/plain": [
              "<Figure size 720x720 with 2 Axes>"
            ]
          },
          "metadata": {
            "tags": [],
            "needs_background": "light"
          }
        }
      ]
    },
    {
      "cell_type": "markdown",
      "metadata": {
        "id": "yPjza-HPwtxx"
      },
      "source": [
        "education.num can hours per week is the most correlated with 0.15 and the second highest is capital gain and education.num, which is 0.12."
      ]
    },
    {
      "cell_type": "code",
      "metadata": {
        "colab": {
          "base_uri": "https://localhost:8080/",
          "height": 548
        },
        "id": "x_V1pcRVIBOM",
        "outputId": "273930b2-6811-4701-94fc-6aa3f2fc85fb"
      },
      "source": [
        "# graphs of numerical attributes\n",
        "fig, axes = plt.subplots(3, 1, figsize = (25,10), sharey = True)\n",
        "sns.countplot(ax = axes[0], x = 'age', hue = 'income', data = adult)\n",
        "sns.countplot(ax = axes[1], x = 'education.num', hue = 'income', data = adult)\n",
        "sns.countplot(ax = axes[2], x = 'hours.per.week', hue = 'income', data = adult)\n",
        "plt.show()"
      ],
      "execution_count": 78,
      "outputs": [
        {
          "output_type": "display_data",
          "data": {
            "image/png": "[encoded data removed]",
            "text/plain": [
              "<Figure size 1800x720 with 3 Axes>"
            ]
          },
          "metadata": {
            "tags": [],
            "needs_background": "light"
          }
        }
      ]
    },
    {
      "cell_type": "code",
      "metadata": {
        "colab": {
          "base_uri": "https://localhost:8080/",
          "height": 548
        },
        "id": "LL1r3cxXPRyu",
        "outputId": "2f48fa7a-45f2-4644-97cc-bafbb1a4ed41"
      },
      "source": [
        "# plots of categorical attributes\n",
        "fig, axes = plt.subplots(3, 2, figsize = (25,10), sharey = True)\n",
        "sns.countplot(ax = axes[0,0], x = 'workclass', hue = 'income', data = adult)\n",
        "sns.countplot(ax = axes[0,1], x = 'marital.status', hue = 'income', data = adult)\n",
        "sns.countplot(ax = axes[1,0], x = 'sex', hue = 'income', data = adult)\n",
        "sns.countplot(ax = axes[1,1], x = 'race', hue = 'income', data = adult)\n",
        "sns.countplot(ax = axes[2,0], x = 'occupation', hue = 'income', data = adult)\n",
        "sns.countplot(ax = axes[2,1], x = 'relationship', hue = 'income', data = adult)\n",
        "plt.show()"
      ],
      "execution_count": 79,
      "outputs": [
        {
          "output_type": "display_data",
          "data": {
            "image/png": "[encoded data removed]",
            "text/plain": [
              "<Figure size 1800x720 with 6 Axes>"
            ]
          },
          "metadata": {
            "tags": [],
            "needs_background": "light"
          }
        }
      ]
    },
    {
      "cell_type": "code",
      "metadata": {
        "colab": {
          "base_uri": "https://localhost:8080/",
          "height": 315
        },
        "id": "M3eqgJxo__53",
        "outputId": "9f025edc-260f-4cd8-9483-93283ea76ac8"
      },
      "source": [
        "# Income column distribution\n",
        "adult.hist(column = 'income')"
      ],
      "execution_count": 89,
      "outputs": [
        {
          "output_type": "execute_result",
          "data": {
            "text/plain": [
              "array([[<matplotlib.axes._subplots.AxesSubplot object at 0x7faa4b69e0d0>]],\n",
              "      dtype=object)"
            ]
          },
          "metadata": {
            "tags": []
          },
          "execution_count": 89
        },
        {
          "output_type": "display_data",
          "data": {
            "image/png": "[encoded data removed]",
            "text/plain": [
              "<Figure size 432x288 with 1 Axes>"
            ]
          },
          "metadata": {
            "tags": [],
            "needs_background": "light"
          }
        }
      ]
    },
    {
      "cell_type": "code",
      "metadata": {
        "colab": {
          "base_uri": "https://localhost:8080/"
        },
        "id": "J4lL81QpvKb1",
        "outputId": "a3fb7ab8-ec5d-426a-e466-b5227f462fbe"
      },
      "source": [
        "adult['workclass'].unique()"
      ],
      "execution_count": 18,
      "outputs": [
        {
          "output_type": "execute_result",
          "data": {
            "text/plain": [
              "array(['Private', 'State-gov', 'Federal-gov', 'Self-emp-not-inc',\n",
              "       'Self-emp-inc', 'Local-gov', 'Without-pay', 'Never-worked'],\n",
              "      dtype=object)"
            ]
          },
          "metadata": {
            "tags": []
          },
          "execution_count": 18
        }
      ]
    },
    {
      "cell_type": "code",
      "metadata": {
        "colab": {
          "base_uri": "https://localhost:8080/"
        },
        "id": "WjY_5B05RfxE",
        "outputId": "9a50a333-3a95-4c90-cd57-51c98528b048"
      },
      "source": [
        "adult['education'].unique()"
      ],
      "execution_count": 21,
      "outputs": [
        {
          "output_type": "execute_result",
          "data": {
            "text/plain": [
              "array(['HS-grad', 'Some-college', '7th-8th', '10th', 'Doctorate',\n",
              "       'Prof-school', 'Bachelors', 'Masters', '11th', 'Assoc-acdm',\n",
              "       'Assoc-voc', '1st-4th', '5th-6th', '12th', '9th', 'Preschool'],\n",
              "      dtype=object)"
            ]
          },
          "metadata": {
            "tags": []
          },
          "execution_count": 21
        }
      ]
    },
    {
      "cell_type": "code",
      "metadata": {
        "colab": {
          "base_uri": "https://localhost:8080/"
        },
        "id": "D6yhesTTRfjZ",
        "outputId": "edb5788f-1b35-4117-8d8a-cb15ea0de5e8"
      },
      "source": [
        "adult['marital.status'].unique()"
      ],
      "execution_count": 122,
      "outputs": [
        {
          "output_type": "execute_result",
          "data": {
            "text/plain": [
              "array([0, 1])"
            ]
          },
          "metadata": {
            "tags": []
          },
          "execution_count": 122
        }
      ]
    },
    {
      "cell_type": "code",
      "metadata": {
        "colab": {
          "base_uri": "https://localhost:8080/"
        },
        "id": "JOGCv_URRfbP",
        "outputId": "06b2629a-23d5-46be-cf5e-4518479035d6"
      },
      "source": [
        "adult['occupation'].unique()"
      ],
      "execution_count": 123,
      "outputs": [
        {
          "output_type": "execute_result",
          "data": {
            "text/plain": [
              "array([ 0,  1,  2,  3,  4,  5,  6,  7,  8,  9, 10, 11, 12, 13, 14])"
            ]
          },
          "metadata": {
            "tags": []
          },
          "execution_count": 123
        }
      ]
    },
    {
      "cell_type": "code",
      "metadata": {
        "colab": {
          "base_uri": "https://localhost:8080/"
        },
        "id": "kdwVtH0ERfSl",
        "outputId": "351126a9-f901-4820-dbbb-d890eb01b4ad"
      },
      "source": [
        "adult['relationship'].unique()"
      ],
      "execution_count": 141,
      "outputs": [
        {
          "output_type": "execute_result",
          "data": {
            "text/plain": [
              "array([0, 1, 2, 3, 4, 5])"
            ]
          },
          "metadata": {
            "tags": []
          },
          "execution_count": 141
        }
      ]
    },
    {
      "cell_type": "code",
      "metadata": {
        "colab": {
          "base_uri": "https://localhost:8080/"
        },
        "id": "2yPni7kXRfDS",
        "outputId": "d0647c35-2091-4dac-9539-70bb35aecd49"
      },
      "source": [
        "adult['race'].unique()"
      ],
      "execution_count": 24,
      "outputs": [
        {
          "output_type": "execute_result",
          "data": {
            "text/plain": [
              "array(['White', 'Black', 'Asian-Pac-Islander', 'Other',\n",
              "       'Amer-Indian-Eskimo'], dtype=object)"
            ]
          },
          "metadata": {
            "tags": []
          },
          "execution_count": 24
        }
      ]
    },
    {
      "cell_type": "code",
      "metadata": {
        "colab": {
          "base_uri": "https://localhost:8080/"
        },
        "id": "i8FoyTxkRpka",
        "outputId": "61907ca0-72ad-4f21-e4e0-0e7795a62103"
      },
      "source": [
        "adult['sex'].unique()"
      ],
      "execution_count": 25,
      "outputs": [
        {
          "output_type": "execute_result",
          "data": {
            "text/plain": [
              "array(['Female', 'Male'], dtype=object)"
            ]
          },
          "metadata": {
            "tags": []
          },
          "execution_count": 25
        }
      ]
    },
    {
      "cell_type": "code",
      "metadata": {
        "colab": {
          "base_uri": "https://localhost:8080/"
        },
        "id": "lrdgXyr1RpgJ",
        "outputId": "76caf97f-9a8e-4838-ade5-035d76badd68"
      },
      "source": [
        "adult['native.country'].unique()"
      ],
      "execution_count": 26,
      "outputs": [
        {
          "output_type": "execute_result",
          "data": {
            "text/plain": [
              "array(['United-States', 'Private', 'Mexico', 'Greece', 'Vietnam', 'China',\n",
              "       'Taiwan', 'India', 'Philippines', 'Trinadad&Tobago', 'Canada',\n",
              "       'South', 'Holand-Netherlands', 'Puerto-Rico', 'Poland', 'Iran',\n",
              "       'England', 'Germany', 'Italy', 'Japan', 'Hong', 'Honduras', 'Cuba',\n",
              "       'Ireland', 'Cambodia', 'Peru', 'Nicaragua', 'Dominican-Republic',\n",
              "       'Haiti', 'El-Salvador', 'Hungary', 'Columbia', 'Guatemala',\n",
              "       'Jamaica', 'Ecuador', 'France', 'Yugoslavia', 'Scotland',\n",
              "       'Portugal', 'Laos', 'Thailand', 'Outlying-US(Guam-USVI-etc)'],\n",
              "      dtype=object)"
            ]
          },
          "metadata": {
            "tags": []
          },
          "execution_count": 26
        }
      ]
    },
    {
      "cell_type": "code",
      "metadata": {
        "id": "WRmry_nrRpU2"
      },
      "source": [
        "adult['workclass'] = adult['workclass'].replace({'Private': 0, 'State-gov': 1, 'Federal-gov': 2, 'Self-emp-not-inc': 3, 'Self-emp-inc': 4,\n",
        "                                                 'Local-gov': 5, 'Without-pay': 6, 'Never-worked': 7})\n",
        "adult['education'] = adult['education'].replace({'HS-grad': 0, 'Some-college': 1, '7th-8th': 2, '10th': 3, 'Doctorate': 4, 'Prof-school':5,\n",
        "                                                 'Bachelors': 6, 'Masters': 7, '11th': 8, 'Assoc-acdm': 9, 'Assoc-voc': 10, '1st-4th': 11,\n",
        "                                                 '5th-6th': 12, '12th': 13, '9th': 14, 'Preschool': 15})\n",
        "adult['marital.status'] = adult['marital.status'].replace({'Widowed': 0, 'Divorced': 0, 'Separated': 0, 'Never-married': 0, 'Married-civ-spouse': 1,\n",
        "                                                           'Married-spouse-absent': 1, 'Married-AF-spouse': 1})\n",
        "adult['occupation'] = adult['occupation'].replace({'Private':0, 'Exec-managerial': 1, 'Machine-op-inspct': 2, 'Prof-specialty':3, 'Other-service': 4,\n",
        "                                                   'Adm-clerical': 5, 'Craft-repair': 6, 'Transport-moving': 7, 'Handlers-cleaners': 8, 'Sales': 9,\n",
        "                                                   'Farming-fishing': 10, 'Tech-support': 11, 'Protective-serv': 12, 'Armed-Forces': 13,\n",
        "                                                   'Priv-house-serv': 14})\n",
        "adult['relationship'] = adult['relationship'].replace({'Not-in-family': 0, 'Unmarried': 1, 'Own-child': 2, 'Other-relative': 3, 'Husband': 4, 'Wife': 5})\n",
        "adult['race'] = adult['race'].replace({'White': 0, 'Black': 1, 'Asian-Pac-Islander': 2, 'Other': 3,'Amer-Indian-Eskimo': 4})\n",
        "adult['sex'] = adult['sex'].replace({'Female': 0, 'Male': 1})\n",
        "adult['native.country'] = adult['native.country'].replace({'United-States': 0, 'Private': 1, 'Mexico': 2, 'Greece': 3, 'Vietnam': 4, 'China': 5,\n",
        "                                                           'Taiwan':6, 'India':7, 'Philippines':8, 'Trinadad&Tobago':9, 'Canada':10, 'South':11,\n",
        "                                                           'Holand-Netherlands': 12, 'Puerto-Rico': 13, 'Poland': 14, 'Iran': 15, 'England': 16, \n",
        "                                                           'Germany': 17, 'Italy': 18, 'Japan': 19, 'Hong': 20, 'Honduras': 21, 'Cuba': 22, \n",
        "                                                           'Ireland': 23, 'Cambodia': 24, 'Peru':25, 'Nicaragua': 26, 'Dominican-Republic': 27, \n",
        "                                                           'Haiti': 28, 'El-Salvador': 29, 'Hungary': 30, 'Columbia': 31, 'Guatemala': 32, 'Jamaica': 33,\n",
        "                                                           'Ecuador': 34 , 'France': 35 , 'Yugoslavia': 36 , 'Scotland': 37 , 'Portugal': 38 , 'Laos': 39,\n",
        "                                                           'Thailand': 40, 'Outlying-US(Guam-USVI-etc)': 41})\n",
        "adult['income'] = adult['income'].replace({'<=50K': 0, '>50K': 1})"
      ],
      "execution_count": 88,
      "outputs": []
    },
    {
      "cell_type": "code",
      "metadata": {
        "colab": {
          "base_uri": "https://localhost:8080/",
          "height": 204
        },
        "id": "YOhaCUSGKciq",
        "outputId": "b1f25970-b19a-4768-c4bd-72c9fdf330bb"
      },
      "source": [
        "adult.head()"
      ],
      "execution_count": 50,
      "outputs": [
        {
          "output_type": "execute_result",
          "data": {
            "text/html": [
              "<div>\n",
              "<style scoped>\n",
              "    .dataframe tbody tr th:only-of-type {\n",
              "        vertical-align: middle;\n",
              "    }\n",
              "\n",
              "    .dataframe tbody tr th {\n",
              "        vertical-align: top;\n",
              "    }\n",
              "\n",
              "    .dataframe thead th {\n",
              "        text-align: right;\n",
              "    }\n",
              "</style>\n",
              "<table border=\"1\" class=\"dataframe\">\n",
              "  <thead>\n",
              "    <tr style=\"text-align: right;\">\n",
              "      <th></th>\n",
              "      <th>age</th>\n",
              "      <th>workclass</th>\n",
              "      <th>fnlwgt</th>\n",
              "      <th>education</th>\n",
              "      <th>education.num</th>\n",
              "      <th>marital.status</th>\n",
              "      <th>occupation</th>\n",
              "      <th>relationship</th>\n",
              "      <th>race</th>\n",
              "      <th>sex</th>\n",
              "      <th>hours.per.week</th>\n",
              "      <th>native.country</th>\n",
              "      <th>income</th>\n",
              "    </tr>\n",
              "  </thead>\n",
              "  <tbody>\n",
              "    <tr>\n",
              "      <th>0</th>\n",
              "      <td>90</td>\n",
              "      <td>0</td>\n",
              "      <td>77053</td>\n",
              "      <td>0</td>\n",
              "      <td>9</td>\n",
              "      <td>0</td>\n",
              "      <td>0</td>\n",
              "      <td>0</td>\n",
              "      <td>0</td>\n",
              "      <td>0</td>\n",
              "      <td>40</td>\n",
              "      <td>0</td>\n",
              "      <td>0</td>\n",
              "    </tr>\n",
              "    <tr>\n",
              "      <th>1</th>\n",
              "      <td>82</td>\n",
              "      <td>0</td>\n",
              "      <td>132870</td>\n",
              "      <td>0</td>\n",
              "      <td>9</td>\n",
              "      <td>0</td>\n",
              "      <td>1</td>\n",
              "      <td>0</td>\n",
              "      <td>0</td>\n",
              "      <td>0</td>\n",
              "      <td>18</td>\n",
              "      <td>0</td>\n",
              "      <td>0</td>\n",
              "    </tr>\n",
              "    <tr>\n",
              "      <th>2</th>\n",
              "      <td>66</td>\n",
              "      <td>0</td>\n",
              "      <td>186061</td>\n",
              "      <td>1</td>\n",
              "      <td>10</td>\n",
              "      <td>0</td>\n",
              "      <td>0</td>\n",
              "      <td>1</td>\n",
              "      <td>1</td>\n",
              "      <td>0</td>\n",
              "      <td>40</td>\n",
              "      <td>0</td>\n",
              "      <td>0</td>\n",
              "    </tr>\n",
              "    <tr>\n",
              "      <th>3</th>\n",
              "      <td>54</td>\n",
              "      <td>0</td>\n",
              "      <td>140359</td>\n",
              "      <td>2</td>\n",
              "      <td>4</td>\n",
              "      <td>0</td>\n",
              "      <td>2</td>\n",
              "      <td>1</td>\n",
              "      <td>0</td>\n",
              "      <td>0</td>\n",
              "      <td>40</td>\n",
              "      <td>0</td>\n",
              "      <td>0</td>\n",
              "    </tr>\n",
              "    <tr>\n",
              "      <th>4</th>\n",
              "      <td>41</td>\n",
              "      <td>0</td>\n",
              "      <td>264663</td>\n",
              "      <td>1</td>\n",
              "      <td>10</td>\n",
              "      <td>0</td>\n",
              "      <td>3</td>\n",
              "      <td>2</td>\n",
              "      <td>0</td>\n",
              "      <td>0</td>\n",
              "      <td>40</td>\n",
              "      <td>0</td>\n",
              "      <td>0</td>\n",
              "    </tr>\n",
              "  </tbody>\n",
              "</table>\n",
              "</div>"
            ],
            "text/plain": [
              "   age  workclass  fnlwgt  ...  hours.per.week  native.country  income\n",
              "0   90          0   77053  ...              40               0       0\n",
              "1   82          0  132870  ...              18               0       0\n",
              "2   66          0  186061  ...              40               0       0\n",
              "3   54          0  140359  ...              40               0       0\n",
              "4   41          0  264663  ...              40               0       0\n",
              "\n",
              "[5 rows x 13 columns]"
            ]
          },
          "metadata": {
            "tags": []
          },
          "execution_count": 50
        }
      ]
    },
    {
      "cell_type": "code",
      "metadata": {
        "colab": {
          "base_uri": "https://localhost:8080/"
        },
        "id": "SlsR__SlKcQz",
        "outputId": "2bd67464-06f4-4e22-8e76-d19e6205c27a"
      },
      "source": [
        "#Spliting training and testing partitions\n",
        "X = adult.drop(['income'],axis = 1)\n",
        "y = adult['income']\n",
        "\n",
        "from sklearn.model_selection import train_test_split\n",
        "X_train,X_test,y_train,y_test=train_test_split(X,y,stratify=y,test_size=0.2,random_state=0)\n",
        "print(X_train.shape)\n",
        "print(y_train.shape)\n",
        "print(X_test.shape)\n",
        "print(y_test.shape)"
      ],
      "execution_count": 91,
      "outputs": [
        {
          "output_type": "stream",
          "text": [
            "(26048, 14)\n",
            "(26048,)\n",
            "(6513, 14)\n",
            "(6513,)\n"
          ],
          "name": "stdout"
        }
      ]
    },
    {
      "cell_type": "code",
      "metadata": {
        "colab": {
          "base_uri": "https://localhost:8080/"
        },
        "id": "nmKvwDF_KyEv",
        "outputId": "dabc5e1c-8f9a-4560-8715-556e110ce603"
      },
      "source": [
        "#Logistic Regression Model\n",
        "from sklearn.linear_model import LogisticRegression\n",
        "logModel = LogisticRegression(random_state = 0)\n",
        "logModel.fit(X_train, y_train)"
      ],
      "execution_count": 96,
      "outputs": [
        {
          "output_type": "execute_result",
          "data": {
            "text/plain": [
              "LogisticRegression(C=1.0, class_weight=None, dual=False, fit_intercept=True,\n",
              "                   intercept_scaling=1, l1_ratio=None, max_iter=100,\n",
              "                   multi_class='auto', n_jobs=None, penalty='l2',\n",
              "                   random_state=0, solver='lbfgs', tol=0.0001, verbose=0,\n",
              "                   warm_start=False)"
            ]
          },
          "metadata": {
            "tags": []
          },
          "execution_count": 96
        }
      ]
    },
    {
      "cell_type": "code",
      "metadata": {
        "colab": {
          "base_uri": "https://localhost:8080/"
        },
        "id": "i77CR9LOLqcx",
        "outputId": "46d72758-0b1d-47a5-bc76-19e32f10a460"
      },
      "source": [
        "y_pred = logModel.predict(X_test)\n",
        "\n",
        "from sklearn import metrics\n",
        "logAccuracy = metrics.accuracy_score(y_test, y_pred)\n",
        "print(logAccuracy)"
      ],
      "execution_count": 112,
      "outputs": [
        {
          "output_type": "stream",
          "text": [
            "0.7865806847842776\n"
          ],
          "name": "stdout"
        }
      ]
    },
    {
      "cell_type": "code",
      "metadata": {
        "colab": {
          "base_uri": "https://localhost:8080/"
        },
        "id": "jQj09Sjob1y6",
        "outputId": "50b22269-d73e-49c7-f1e1-bc8ef22e40cd"
      },
      "source": [
        "# Decision Tree Model\n",
        "from sklearn.tree import DecisionTreeClassifier\n",
        "dtModel = DecisionTreeClassifier(criterion='entropy')\n",
        "dtModel.fit(X_train, y_train)"
      ],
      "execution_count": 113,
      "outputs": [
        {
          "output_type": "execute_result",
          "data": {
            "text/plain": [
              "DecisionTreeClassifier(ccp_alpha=0.0, class_weight=None, criterion='entropy',\n",
              "                       max_depth=None, max_features=None, max_leaf_nodes=None,\n",
              "                       min_impurity_decrease=0.0, min_impurity_split=None,\n",
              "                       min_samples_leaf=1, min_samples_split=2,\n",
              "                       min_weight_fraction_leaf=0.0, presort='deprecated',\n",
              "                       random_state=None, splitter='best')"
            ]
          },
          "metadata": {
            "tags": []
          },
          "execution_count": 113
        }
      ]
    },
    {
      "cell_type": "code",
      "metadata": {
        "colab": {
          "base_uri": "https://localhost:8080/"
        },
        "id": "2fPl38TJb-Fk",
        "outputId": "f46a9386-b1c2-466a-a33a-5e36e4c7a4e5"
      },
      "source": [
        "y_pred = dtModel.predict((X_test))\n",
        "dtAccuracy = metrics.accuracy_score(y_test, y_pred)\n",
        "print(dtAccuracy)"
      ],
      "execution_count": 114,
      "outputs": [
        {
          "output_type": "stream",
          "text": [
            "0.8159066482419776\n"
          ],
          "name": "stdout"
        }
      ]
    },
    {
      "cell_type": "code",
      "metadata": {
        "colab": {
          "base_uri": "https://localhost:8080/"
        },
        "id": "fEX9VDcJclRv",
        "outputId": "f80e2ee5-efe0-4d81-a727-56123585477c"
      },
      "source": [
        "# Random Forest Model\n",
        "from sklearn.ensemble import RandomForestClassifier\n",
        "rfcModel = RandomForestClassifier(n_estimators = 100, criterion = 'entropy', random_state = 0)\n",
        "rfcModel.fit(X_train, y_train)"
      ],
      "execution_count": 115,
      "outputs": [
        {
          "output_type": "execute_result",
          "data": {
            "text/plain": [
              "RandomForestClassifier(bootstrap=True, ccp_alpha=0.0, class_weight=None,\n",
              "                       criterion='entropy', max_depth=None, max_features='auto',\n",
              "                       max_leaf_nodes=None, max_samples=None,\n",
              "                       min_impurity_decrease=0.0, min_impurity_split=None,\n",
              "                       min_samples_leaf=1, min_samples_split=2,\n",
              "                       min_weight_fraction_leaf=0.0, n_estimators=100,\n",
              "                       n_jobs=None, oob_score=False, random_state=0, verbose=0,\n",
              "                       warm_start=False)"
            ]
          },
          "metadata": {
            "tags": []
          },
          "execution_count": 115
        }
      ]
    },
    {
      "cell_type": "code",
      "metadata": {
        "id": "gjPcdctycsAi"
      },
      "source": [
        "y_pred = rfcModel.predict(X_test)\n",
        "rfcAccuracy = metrics.accuracy_score(y_test, y_pred)\n",
        "print(rfcAccuracy)"
      ],
      "execution_count": 116,
      "outputs": []
    },
    {
      "cell_type": "code",
      "metadata": {
        "colab": {
          "base_uri": "https://localhost:8080/"
        },
        "id": "qVOsAmwuKFY6",
        "outputId": "868de3c2-d5a2-4081-867b-c41ad98d8fdc"
      },
      "source": [
        "# Gradient Boosting Model\n",
        "from sklearn.ensemble import GradientBoostingClassifier\n",
        "gbcModel = GradientBoostingClassifier(random_state=42)\n",
        "gbcModel.fit(X_train, y_train)"
      ],
      "execution_count": 117,
      "outputs": [
        {
          "output_type": "execute_result",
          "data": {
            "text/plain": [
              "GradientBoostingClassifier(ccp_alpha=0.0, criterion='friedman_mse', init=None,\n",
              "                           learning_rate=0.1, loss='deviance', max_depth=3,\n",
              "                           max_features=None, max_leaf_nodes=None,\n",
              "                           min_impurity_decrease=0.0, min_impurity_split=None,\n",
              "                           min_samples_leaf=1, min_samples_split=2,\n",
              "                           min_weight_fraction_leaf=0.0, n_estimators=100,\n",
              "                           n_iter_no_change=None, presort='deprecated',\n",
              "                           random_state=42, subsample=1.0, tol=0.0001,\n",
              "                           validation_fraction=0.1, verbose=0,\n",
              "                           warm_start=False)"
            ]
          },
          "metadata": {
            "tags": []
          },
          "execution_count": 117
        }
      ]
    },
    {
      "cell_type": "code",
      "metadata": {
        "id": "yunXgO3tKbIS"
      },
      "source": [
        "y_pred = gbcModel.predict(X_test)\n",
        "gbcAccuracy = metrics.accuracy_score(y_test, y_pred)\n",
        "print(gbcAccuracy)"
      ],
      "execution_count": 118,
      "outputs": []
    },
    {
      "cell_type": "code",
      "metadata": {
        "colab": {
          "base_uri": "https://localhost:8080/",
          "height": 173
        },
        "id": "6iVAPrAzdKkD",
        "outputId": "462a29fe-a59a-4f90-f1ec-1d3bc62eb57a"
      },
      "source": [
        "models_scores = pd.DataFrame({'Accuracy':[logAccuracy, dtAccuracy, rfcAccuracy, gbcAccuracy]},\n",
        "                             index = ['Logistic Regression','Decision Tree','Random Forest','Gradient Boosting'])\n",
        "\n",
        "models_scores"
      ],
      "execution_count": 124,
      "outputs": [
        {
          "output_type": "execute_result",
          "data": {
            "text/html": [
              "<div>\n",
              "<style scoped>\n",
              "    .dataframe tbody tr th:only-of-type {\n",
              "        vertical-align: middle;\n",
              "    }\n",
              "\n",
              "    .dataframe tbody tr th {\n",
              "        vertical-align: top;\n",
              "    }\n",
              "\n",
              "    .dataframe thead th {\n",
              "        text-align: right;\n",
              "    }\n",
              "</style>\n",
              "<table border=\"1\" class=\"dataframe\">\n",
              "  <thead>\n",
              "    <tr style=\"text-align: right;\">\n",
              "      <th></th>\n",
              "      <th>Accuracy</th>\n",
              "    </tr>\n",
              "  </thead>\n",
              "  <tbody>\n",
              "    <tr>\n",
              "      <th>Logistic Regression</th>\n",
              "      <td>0.786581</td>\n",
              "    </tr>\n",
              "    <tr>\n",
              "      <th>Decision Tree</th>\n",
              "      <td>0.815907</td>\n",
              "    </tr>\n",
              "    <tr>\n",
              "      <th>Random Forest</th>\n",
              "      <td>0.855213</td>\n",
              "    </tr>\n",
              "    <tr>\n",
              "      <th>Gradient Boosting</th>\n",
              "      <td>0.866114</td>\n",
              "    </tr>\n",
              "  </tbody>\n",
              "</table>\n",
              "</div>"
            ],
            "text/plain": [
              "                     Accuracy\n",
              "Logistic Regression  0.786581\n",
              "Decision Tree        0.815907\n",
              "Random Forest        0.855213\n",
              "Gradient Boosting    0.866114"
            ]
          },
          "metadata": {
            "tags": []
          },
          "execution_count": 124
        }
      ]
    },
    {
      "cell_type": "code",
      "metadata": {
        "colab": {
          "base_uri": "https://localhost:8080/"
        },
        "id": "Jq1Ntv3oXjsf",
        "outputId": "a0124f30-9b5f-41ce-82bf-46e998ebb432"
      },
      "source": [
        "#install optuna\n",
        "!pip install --quiet optuna"
      ],
      "execution_count": 128,
      "outputs": [
        {
          "output_type": "stream",
          "text": [
            "\u001b[K     |████████████████████████████████| 296kB 7.3MB/s \n",
            "\u001b[K     |████████████████████████████████| 1.2MB 7.7MB/s \n",
            "\u001b[K     |████████████████████████████████| 81kB 7.3MB/s \n",
            "\u001b[K     |████████████████████████████████| 81kB 6.7MB/s \n",
            "\u001b[K     |████████████████████████████████| 51kB 5.5MB/s \n",
            "\u001b[K     |████████████████████████████████| 112kB 28.5MB/s \n",
            "\u001b[K     |████████████████████████████████| 143kB 18.6MB/s \n",
            "\u001b[?25h  Building wheel for alembic (setup.py) ... \u001b[?25l\u001b[?25hdone\n",
            "  Building wheel for pyperclip (setup.py) ... \u001b[?25l\u001b[?25hdone\n"
          ],
          "name": "stdout"
        }
      ]
    },
    {
      "cell_type": "code",
      "metadata": {
        "colab": {
          "base_uri": "https://localhost:8080/"
        },
        "id": "ucwAKExHPN1w",
        "outputId": "a7360a6c-c191-42ac-daf3-276b3db3b983"
      },
      "source": [
        "# Tuning parameters\n",
        "import sklearn.datasets\n",
        "import sklearn.ensemble\n",
        "import sklearn.model_selection\n",
        "import optuna\n",
        "\n",
        "def objective(trial):\n",
        "    \n",
        "    n_estimators = trial.suggest_int('n_estimators', 2, 20)\n",
        "    max_depth = int(trial.suggest_float('max_depth', 1, 32, log = True))\n",
        "    \n",
        "    gbc = sklearn.ensemble.GradientBoostingClassifier(\n",
        "        n_estimators=n_estimators, max_depth=max_depth)\n",
        "    \n",
        "    return metrics.accuracy_score(y_test, y_pred)\n",
        "\n",
        "study = optuna.create_study(direction = 'maximize')\n",
        "study.optimize(objective, n_trials = 10)\n",
        "\n",
        "trial = study.best_trial\n",
        "\n",
        "print('Accuracy: {}'.format(trial.value))\n",
        "print(\"Best hyperparameters: {}\".format(trial.params))"
      ],
      "execution_count": 144,
      "outputs": [
        {
          "output_type": "stream",
          "text": [
            "\u001b[32m[I 2021-05-08 05:46:16,551]\u001b[0m A new study created in memory with name: no-name-c8eb5b64-a463-4099-81c7-d28950387bf0\u001b[0m\n",
            "\u001b[32m[I 2021-05-08 05:46:16,559]\u001b[0m Trial 0 finished with value: 0.8661139259941655 and parameters: {'n_estimators': 8, 'max_depth': 11.754432307225077}. Best is trial 0 with value: 0.8661139259941655.\u001b[0m\n",
            "\u001b[32m[I 2021-05-08 05:46:16,565]\u001b[0m Trial 1 finished with value: 0.8661139259941655 and parameters: {'n_estimators': 20, 'max_depth': 1.0790270908981119}. Best is trial 0 with value: 0.8661139259941655.\u001b[0m\n",
            "\u001b[32m[I 2021-05-08 05:46:16,570]\u001b[0m Trial 2 finished with value: 0.8661139259941655 and parameters: {'n_estimators': 16, 'max_depth': 11.562755922760502}. Best is trial 0 with value: 0.8661139259941655.\u001b[0m\n",
            "\u001b[32m[I 2021-05-08 05:46:16,576]\u001b[0m Trial 3 finished with value: 0.8661139259941655 and parameters: {'n_estimators': 3, 'max_depth': 2.069663360681698}. Best is trial 0 with value: 0.8661139259941655.\u001b[0m\n",
            "\u001b[32m[I 2021-05-08 05:46:16,580]\u001b[0m Trial 4 finished with value: 0.8661139259941655 and parameters: {'n_estimators': 3, 'max_depth': 3.109840747812518}. Best is trial 0 with value: 0.8661139259941655.\u001b[0m\n",
            "\u001b[32m[I 2021-05-08 05:46:16,585]\u001b[0m Trial 5 finished with value: 0.8661139259941655 and parameters: {'n_estimators': 5, 'max_depth': 1.5855140237520406}. Best is trial 0 with value: 0.8661139259941655.\u001b[0m\n",
            "\u001b[32m[I 2021-05-08 05:46:16,593]\u001b[0m Trial 6 finished with value: 0.8661139259941655 and parameters: {'n_estimators': 5, 'max_depth': 13.556526891320827}. Best is trial 0 with value: 0.8661139259941655.\u001b[0m\n",
            "\u001b[32m[I 2021-05-08 05:46:16,599]\u001b[0m Trial 7 finished with value: 0.8661139259941655 and parameters: {'n_estimators': 12, 'max_depth': 17.97167337548835}. Best is trial 0 with value: 0.8661139259941655.\u001b[0m\n",
            "\u001b[32m[I 2021-05-08 05:46:16,605]\u001b[0m Trial 8 finished with value: 0.8661139259941655 and parameters: {'n_estimators': 6, 'max_depth': 19.038198064632383}. Best is trial 0 with value: 0.8661139259941655.\u001b[0m\n",
            "\u001b[32m[I 2021-05-08 05:46:16,611]\u001b[0m Trial 9 finished with value: 0.8661139259941655 and parameters: {'n_estimators': 10, 'max_depth': 11.934168516211587}. Best is trial 0 with value: 0.8661139259941655.\u001b[0m\n"
          ],
          "name": "stderr"
        },
        {
          "output_type": "stream",
          "text": [
            "Accuracy: 0.8661139259941655\n",
            "Best hyperparameters: {'n_estimators': 8, 'max_depth': 11.754432307225077}\n"
          ],
          "name": "stdout"
        }
      ]
    },
    {
      "cell_type": "code",
      "metadata": {
        "colab": {
          "base_uri": "https://localhost:8080/"
        },
        "id": "_puofy8zdUhi",
        "outputId": "89b5a83f-1df1-4791-eb91-6d3204d77a2b"
      },
      "source": [
        "# important features\n",
        "feature_importances = gbcModel.feature_importances_\n",
        "features = X_train.columns\n",
        "df = pd.DataFrame({'Features': features, 'Importance': feature_importances}).nlargest(10, 'Importance')\n",
        "print(df)"
      ],
      "execution_count": 147,
      "outputs": [
        {
          "output_type": "stream",
          "text": [
            "          Features  Importance\n",
            "7     relationship    0.387428\n",
            "10    capital.gain    0.211737\n",
            "4    education.num    0.202859\n",
            "0              age    0.059260\n",
            "11    capital.loss    0.059041\n",
            "12  hours.per.week    0.038624\n",
            "6       occupation    0.020671\n",
            "5   marital.status    0.006907\n",
            "2           fnlwgt    0.004529\n",
            "9              sex    0.003059\n"
          ],
          "name": "stdout"
        }
      ]
    }
  ]
}